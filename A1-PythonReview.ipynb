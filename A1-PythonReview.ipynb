A1-PythonReview
Python Review


1. Print two sentences. Use only one print statement to do it and use the newline escape character between the two sentences. It should (without quotes) read.
"My name is (your name).
I am a student at North Seattle College."

print("My name is (your name).\n I am a student at North Seattle College.")
In [ ]:



2. Define a variable called phone and insert a phone number without dashes. Print out
"My phone number is (phone number here)"
In [ ]:
phone = "1234567890" 
print("My phone number is " + phone)




3. Be sure to use the f functionality of printing. Save in a variable called phone a phone number with dashes and another variable with your name in it. Print out
"Hello my name is (your name) and my phone number is (phone number with dashes)"
In [ ]:
name = "Your Name"  # Replace with your actual name
phone = "123-456-7890"  # Replace with your actual phone number with dashes

print(f"Hello, my name is {name} and my phone number is {phone}.")




4. Create variables for the month and year you will graduate in one line.
Using the variables print out "I graduate in (month) of (year)."
Don't forget the period.
In [ ]:
month, year = "June", 2025  # Replace with your actual graduation month and year

print(f"I graduate in {month} of {year}.")




Mathematical
5. Create a variable called ans and into it save the solution to 12 times 5 minus 3 divided by 2. Be sure you write in exactly that order. Print ans. Now write a comment underneath explaining what the TYPE of ans is at the end.
In [ ]:
#ans = 12 * 5 - 3 / 2
ans=58.5
print(ans)

# The type of ans is a float because the division operation results in a floating-point number.




Decision Structures
6. Create a variable to hold the string "October". Now write an if/else statement that tests if that variable says "October". If it does, print "31 days". If it does not, print "30 days"
In [ ]:
month = "October"

if month == "October":
    print("31 days")
else:
    print("30 days")




7. Create a variable and save 140 into it. Now create a decision structure using if, elif and else that does the following:
If the number is greater than 150, print "greater than 150"
If the number if greater than 100 but less than 151, print "between 100 and 150"
If the number is less than 100, print "less than 100"
In [ ]:
number = 140

if number > 150:
    print("greater than 150")
elif 100 < number <= 150:
    print("between 100 and 150")
else:
    print("less than 100")




8. Create a variable to hold the number 70. Now create two if statements:
1st: if the number is divisible by 5 and by 10, then print "Number is divisible by 5 and 10."
2nd: if the number is divisible by 7 or by 2, then print "Number is divisible by 7 or by 2"
In [ ]:

number = 70


# 1st if statement
if number % 5 == 0 and number % 10 == 0:
    print("Number is divisible by 5 and 10.")


# 2nd if statement
if number % 7 == 0 or number % 2 == 0:
    print("Number is divisible by 7 or by 2")




9. Create a FOR loop that prints the numbers 1 through 100 that are divisible by 7.
In [ ]:
for num in range(1, 101):
    if num % 7 == 0:
        print(num)



10. Use a while loop to print all numbers from 1 to 10 which are divisible by 3. Print the numbers next to each other with a space in between them. Use a while loop and if statement. Sum up the numbers and printt he sum on a new line.
In [ ]:
num = 1
total_sum = 0

while num <= 10:
    if num % 3 == 0:
        print(num, end=' ')
        total_sum += num
    num += 1

print("\nSum of the numbers:", total_sum)





11. You will be creating a nested loop like we did in class but with a twist. Ultimately, you want 5 sets to print, each one with the output "Set : (set number)" each time a new set is looped into. Then before you print all the numbers in that set, you want to test if the number is divisible by 2. If it is, print a string 5 times that looks like this: "Student (number)". So it would have 5 sets... some of them would have strings printed in them, some would not. The ones that would have strings in them would show output like:
"
Set: 1
Set: 2
Student 1
Student 2
Student 3
Student 4
Student 5
Set: 3
..."

for set_number in range(1, 6):
    print(f"Set: {set_number}")
    
    for student_number in range(1, 6):
        if student_number % 2 == 0:
            print(f"Student {student_number}")


# Output will have 5 sets, and in each set, it prints "Student" strings for numbers divisible by 2.




In [ ]:



12. Create a variable called school to hold the string "Hogwarts". Create two more variables, the first (call it first) and it will slice out the "Hog" and the other (call it second) will slice out the "warts" from the first variable. (Do not just save the strings "Hog and "warts" into these two variables!) Now print first and second and then print the last letter of school.
In [ ]:
school = "Hogwarts"
first = school[:3]  # Slicing out "Hog"
second = school[3:]  # Slicing out "warts"

print(first)
print(second)
print(school[-1])  # Printing the last letter of school




13. Create a list called chars and save these strings in: Thor, She-Hulk, Loki. Now use a FOR loop to print each item as a concatenation of the string: " is a character in the Marvel Cinematic Universe.." So the output will be:
Thor is a character in the Marvel Cinematic Universe. She-Hulk is a character in the Marvel Cinematic Universe. Loki is a character in the Marvel Cinematic Universe.
In [ ]:

chars = ["Thor", "She-Hulk", "Loki"]


for char in chars:
    print(f"{char} is a character in the Marvel Cinematic Universe.")




14. Create a nested list called months. It will be a list with 6 lists within it. In each nested list will be the name of a month as a string and then the number of days it has. Create this using the first 6 months. Now use a loop with range and len function to print the following string format on each iteration:
"January has 31 days" .... (month name) has (month days) days.
In [ ]:
months = [
    ["January", 31],
    ["February", 28],
    ["March", 31],
    ["April", 30],
    ["May", 31],
    ["June", 30]
]

for i in range(len(months)):
    month_name, month_days = months[i]
    print(f"{month_name} has {month_days} days.")




15. Create a dictionary called dog that hold the data below. Print it. Then print the value of the Breed key. Then use the values in the dictionary to print out the string: "The Corgi is expected to live about 13 years."
Data:
Breed = Corgi
Age Exp. = 13
Type = Cattle herding
In [ ]:

dog = {
    "Breed": "Corgi",
    "Age Exp.": 13,
    "Type": "Cattle herding"
}

# Print the entire dictionary
print(dog)

# Print the value of the "Breed" key
print("Breed:", dog["Breed"])

# Use the values to print the specified string
print(f"The {dog['Breed']} is expected to live about {dog['Age Exp.']} years.")


